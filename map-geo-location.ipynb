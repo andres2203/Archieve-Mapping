{
 "cells": [
  {
   "cell_type": "markdown",
   "metadata": {},
   "source": [
    "# To do"
   ]
  },
  {
   "cell_type": "markdown",
   "metadata": {},
   "source": [
    "- [X] write usable json files\n",
    "- [X] allocate all files in folder\n",
    "- [X] print multiple poi on map\n",
    "- [ ] connect to open folder/files\n",
    "- [ ] make it runable - GUI Win/Html...."
   ]
  },
  {
   "cell_type": "markdown",
   "metadata": {},
   "source": [
    "# Info"
   ]
  },
  {
   "cell_type": "markdown",
   "metadata": {},
   "source": [
    "# Sources"
   ]
  },
  {
   "cell_type": "markdown",
   "metadata": {},
   "source": [
    "[Source 1](https://nbviewer.jupyter.org/github/gotoariel/folium-demo/blob/master/demo/demo.ipynb)\n",
    "\n",
    "[Source 2](http://blog.schockwellenreiter.de/2020/05/2020051601.html)"
   ]
  },
  {
   "cell_type": "code",
   "execution_count": 66,
   "metadata": {},
   "outputs": [
    {
     "name": "stdout",
     "output_type": "stream",
     "text": [
      "\n",
      "     active environment : geofiles\n",
      "    active env location : /home/andres/miniconda3/envs/geofiles\n",
      "            shell level : 2\n",
      "       user config file : /home/andres/.condarc\n",
      " populated config files : \n",
      "          conda version : 4.8.4\n",
      "    conda-build version : not installed\n",
      "         python version : 3.7.6.final.0\n",
      "       virtual packages : __cuda=10.2\n",
      "                          __glibc=2.31\n",
      "       base environment : /home/andres/miniconda3  (writable)\n",
      "           channel URLs : https://repo.anaconda.com/pkgs/main/linux-64\n",
      "                          https://repo.anaconda.com/pkgs/main/noarch\n",
      "                          https://repo.anaconda.com/pkgs/r/linux-64\n",
      "                          https://repo.anaconda.com/pkgs/r/noarch\n",
      "          package cache : /home/andres/miniconda3/pkgs\n",
      "                          /home/andres/.conda/pkgs\n",
      "       envs directories : /home/andres/miniconda3/envs\n",
      "                          /home/andres/.conda/envs\n",
      "               platform : linux-64\n",
      "             user-agent : conda/4.8.4 requests/2.23.0 CPython/3.7.6 Linux/5.3.0-42-generic linuxmint/20 glibc/2.31\n",
      "                UID:GID : 1000:1000\n",
      "             netrc file : None\n",
      "           offline mode : False\n",
      "\n"
     ]
    }
   ],
   "source": [
    "# env info\n",
    "!conda info"
   ]
  },
  {
   "cell_type": "markdown",
   "metadata": {},
   "source": [
    "# Install libraries"
   ]
  },
  {
   "cell_type": "code",
   "execution_count": 5,
   "metadata": {
    "collapsed": true,
    "jupyter": {
     "outputs_hidden": true
    }
   },
   "outputs": [
    {
     "name": "stdout",
     "output_type": "stream",
     "text": [
      "Collecting package metadata (current_repodata.json): done\n",
      "Solving environment: done\n",
      "\n",
      "## Package Plan ##\n",
      "\n",
      "  environment location: /home/andres/miniconda3\n",
      "\n",
      "  added / updated specs:\n",
      "    - folium\n",
      "\n",
      "\n",
      "The following packages will be downloaded:\n",
      "\n",
      "    package                    |            build\n",
      "    ---------------------------|-----------------\n",
      "    conda-4.8.4                |   py37hc8dfbb8_2         3.1 MB  conda-forge\n",
      "    libblas-3.8.0              |      17_openblas          11 KB  conda-forge\n",
      "    libcblas-3.8.0             |      17_openblas          11 KB  conda-forge\n",
      "    libgfortran-ng-7.5.0       |      hdf63c60_16         1.3 MB  conda-forge\n",
      "    liblapack-3.8.0            |      17_openblas          11 KB  conda-forge\n",
      "    libopenblas-0.3.10         |pthreads_hb3c22a3_4         7.8 MB  conda-forge\n",
      "    numpy-1.19.1               |   py37h7ea13bd_2         5.2 MB  conda-forge\n",
      "    ------------------------------------------------------------\n",
      "                                           Total:        17.3 MB\n",
      "\n",
      "The following NEW packages will be INSTALLED:\n",
      "\n",
      "  branca             conda-forge/noarch::branca-0.4.1-py_0\n",
      "  folium             conda-forge/noarch::folium-0.11.0-py_0\n",
      "  libblas            conda-forge/linux-64::libblas-3.8.0-17_openblas\n",
      "  libcblas           conda-forge/linux-64::libcblas-3.8.0-17_openblas\n",
      "  libgfortran-ng     conda-forge/linux-64::libgfortran-ng-7.5.0-hdf63c60_16\n",
      "  liblapack          conda-forge/linux-64::liblapack-3.8.0-17_openblas\n",
      "  libopenblas        conda-forge/linux-64::libopenblas-0.3.10-pthreads_hb3c22a3_4\n",
      "  numpy              conda-forge/linux-64::numpy-1.19.1-py37h7ea13bd_2\n",
      "\n",
      "The following packages will be UPDATED:\n",
      "\n",
      "  conda                                4.8.3-py37hc8dfbb8_1 --> 4.8.4-py37hc8dfbb8_2\n",
      "  openssl                                 1.1.1g-h516909a_0 --> 1.1.1g-h516909a_1\n",
      "\n",
      "\n",
      "\n",
      "Downloading and Extracting Packages\n",
      "libcblas-3.8.0       | 11 KB     | ##################################### | 100% \n",
      "liblapack-3.8.0      | 11 KB     | ##################################### | 100% \n",
      "conda-4.8.4          | 3.1 MB    | ##################################### | 100% \n",
      "numpy-1.19.1         | 5.2 MB    | ##################################### | 100% \n",
      "libblas-3.8.0        | 11 KB     | ##################################### | 100% \n",
      "libgfortran-ng-7.5.0 | 1.3 MB    | ##################################### | 100% \n",
      "libopenblas-0.3.10   | 7.8 MB    | ##################################### | 100% \n",
      "Preparing transaction: done\n",
      "Verifying transaction: done\n",
      "Executing transaction: done\n",
      "\n",
      "Note: you may need to restart the kernel to use updated packages.\n"
     ]
    }
   ],
   "source": [
    "conda install -c conda-forge folium\n",
    "conda install -c conda-forge geocoder\n",
    "pip install ediblepickle\n",
    "conda install -c conda-forge matplotlib"
   ]
  },
  {
   "cell_type": "markdown",
   "metadata": {},
   "source": [
    "# Import libraries"
   ]
  },
  {
   "cell_type": "code",
   "execution_count": 2,
   "metadata": {},
   "outputs": [],
   "source": [
    "import json, string\n",
    "\n",
    "#Folium uses the Leaflet API to allow users to write Python code to generate and manipulate interactive JavaScript maps. This also allows for drawing those maps in Jupyter notebooks\n",
    "import folium\n",
    "#import requests\n",
    "import geocoder\n",
    "#import pandas as pd\n",
    "import matplotlib\n",
    "import numpy as np\n",
    "import pandas as pd\n",
    "import os\n",
    "\n",
    "from folium import Map, Marker#, GeoJson, LayerControl\n",
    "#from ediblepickle import checkpoint\n",
    "\n",
    "\n",
    "%matplotlib inline "
   ]
  },
  {
   "cell_type": "markdown",
   "metadata": {},
   "source": [
    "## Geocoder test"
   ]
  },
  {
   "cell_type": "code",
   "execution_count": 3,
   "metadata": {},
   "outputs": [
    {
     "name": "stdout",
     "output_type": "stream",
     "text": [
      "[47.9959, 7.8522]\n"
     ]
    }
   ],
   "source": [
    "# get my locaton\n",
    "my_loc = geocoder.ip('me')\n",
    "print(my_loc.latlng)"
   ]
  },
  {
   "cell_type": "code",
   "execution_count": 4,
   "metadata": {},
   "outputs": [
    {
     "data": {
      "text/plain": [
       "[47.9959, 7.8522]"
      ]
     },
     "execution_count": 4,
     "metadata": {},
     "output_type": "execute_result"
    }
   ],
   "source": [
    "# get geocode via my ip\n",
    "g = geocoder.ipinfo('93.218.39.223')\n",
    "g.latlng"
   ]
  },
  {
   "cell_type": "markdown",
   "metadata": {},
   "source": [
    "# 1.0 Import data from dir"
   ]
  },
  {
   "cell_type": "code",
   "execution_count": 44,
   "metadata": {},
   "outputs": [],
   "source": [
    "path = 'data//'"
   ]
  },
  {
   "cell_type": "code",
   "execution_count": 45,
   "metadata": {},
   "outputs": [],
   "source": [
    "# def read dirs and create lists\n",
    "\n",
    "file_dict = []\n",
    "path_list = []\n",
    "\n",
    "for root, dirs, files in os.walk(path): # searches in folders, subfolders and files\n",
    "    for name in dirs:\n",
    "        file_path = os.path.join(root, name)\n",
    "        for txt_file in os.listdir(file_path):\n",
    "            \n",
    "            if txt_file == 'location.txt':\n",
    "                file = os.path.join(file_path, txt_file) # get filepath for each file\n",
    "                path_list.append(file)\n",
    "\n",
    "                with open(file) as json_file: # collect json contend\n",
    "                    data = json.load(json_file)\n",
    "                    file_dict.append(data) # append json dict to file_dict\n"
   ]
  },
  {
   "cell_type": "code",
   "execution_count": 8,
   "metadata": {},
   "outputs": [
    {
     "name": "stdout",
     "output_type": "stream",
     "text": [
      "RÜB_59\n",
      "Weinbergblick, 79395 Neuenburg am Rhein\n",
      "Regenbecken\n",
      "1998\n",
      "47.784599, 7.543373\n"
     ]
    }
   ],
   "source": [
    "for keys, values in file_dict[0].items():\n",
    "    #for i in values:\n",
    "    print(values)"
   ]
  },
  {
   "cell_type": "code",
   "execution_count": 9,
   "metadata": {},
   "outputs": [
    {
     "data": {
      "text/html": [
       "<div>\n",
       "<style scoped>\n",
       "    .dataframe tbody tr th:only-of-type {\n",
       "        vertical-align: middle;\n",
       "    }\n",
       "\n",
       "    .dataframe tbody tr th {\n",
       "        vertical-align: top;\n",
       "    }\n",
       "\n",
       "    .dataframe thead th {\n",
       "        text-align: right;\n",
       "    }\n",
       "</style>\n",
       "<table border=\"1\" class=\"dataframe\">\n",
       "  <thead>\n",
       "    <tr style=\"text-align: right;\">\n",
       "      <th></th>\n",
       "      <th>name</th>\n",
       "      <th>adress</th>\n",
       "      <th>desc</th>\n",
       "      <th>year_build</th>\n",
       "      <th>location</th>\n",
       "    </tr>\n",
       "  </thead>\n",
       "  <tbody>\n",
       "    <tr>\n",
       "      <th>0</th>\n",
       "      <td>RÜB_59</td>\n",
       "      <td>Weinbergblick, 79395 Neuenburg am Rhein</td>\n",
       "      <td>Regenbecken</td>\n",
       "      <td>1998</td>\n",
       "      <td>47.784599, 7.543373</td>\n",
       "    </tr>\n",
       "    <tr>\n",
       "      <th>1</th>\n",
       "      <td>Hof</td>\n",
       "      <td>79395 Neuenburg am Rhein, Germany</td>\n",
       "      <td>Regenbecken</td>\n",
       "      <td>1900</td>\n",
       "      <td>47.784599, 7.543373</td>\n",
       "    </tr>\n",
       "    <tr>\n",
       "      <th>2</th>\n",
       "      <td>Kirche</td>\n",
       "      <td>Kirchstrasse 20, 79395, Neuenburg, Germany</td>\n",
       "      <td>Regenbecken</td>\n",
       "      <td>1998</td>\n",
       "      <td>47.767964, 7.555197</td>\n",
       "    </tr>\n",
       "    <tr>\n",
       "      <th>3</th>\n",
       "      <td>RÜB_55</td>\n",
       "      <td>St. Barbara Strasse 20, 79395, Neuenburg, Germany</td>\n",
       "      <td>Regenbecken</td>\n",
       "      <td>1998</td>\n",
       "      <td>47.769831, 7.554888</td>\n",
       "    </tr>\n",
       "  </tbody>\n",
       "</table>\n",
       "</div>"
      ],
      "text/plain": [
       "     name                                             adress         desc  \\\n",
       "0  RÜB_59            Weinbergblick, 79395 Neuenburg am Rhein  Regenbecken   \n",
       "1     Hof                  79395 Neuenburg am Rhein, Germany  Regenbecken   \n",
       "2  Kirche         Kirchstrasse 20, 79395, Neuenburg, Germany  Regenbecken   \n",
       "3  RÜB_55  St. Barbara Strasse 20, 79395, Neuenburg, Germany  Regenbecken   \n",
       "\n",
       "   year_build             location  \n",
       "0        1998  47.784599, 7.543373  \n",
       "1        1900  47.784599, 7.543373  \n",
       "2        1998  47.767964, 7.555197  \n",
       "3        1998  47.769831, 7.554888  "
      ]
     },
     "execution_count": 9,
     "metadata": {},
     "output_type": "execute_result"
    }
   ],
   "source": [
    "# build df with locations\n",
    "df = pd.DataFrame.from_dict(file_dict)\n",
    "df"
   ]
  },
  {
   "cell_type": "code",
   "execution_count": 10,
   "metadata": {},
   "outputs": [
    {
     "data": {
      "text/plain": [
       "'47.784599, 7.543373'"
      ]
     },
     "execution_count": 10,
     "metadata": {},
     "output_type": "execute_result"
    }
   ],
   "source": [
    "df['location'][0]"
   ]
  },
  {
   "cell_type": "code",
   "execution_count": 11,
   "metadata": {},
   "outputs": [
    {
     "name": "stdout",
     "output_type": "stream",
     "text": [
      "RÜB_59\n",
      "Weinbergblick, 79395 Neuenburg am Rhein\n",
      "Regenbecken\n",
      "1998\n",
      "47.784599, 7.543373\n",
      "Hof\n",
      "79395 Neuenburg am Rhein, Germany\n",
      "Regenbecken\n",
      "1900\n",
      "47.784599, 7.543373\n",
      "Kirche\n",
      "Kirchstrasse 20, 79395, Neuenburg, Germany\n",
      "Regenbecken\n",
      "1998\n",
      "47.767964, 7.555197\n",
      "RÜB_55\n",
      "St. Barbara Strasse 20, 79395, Neuenburg, Germany\n",
      "Regenbecken\n",
      "1998\n",
      "47.769831, 7.554888\n"
     ]
    }
   ],
   "source": [
    "#print(file_dict)\n",
    "\n",
    "for i in file_dict:\n",
    "    for keys, values in i.items():\n",
    "        print(values)\n",
    "        "
   ]
  },
  {
   "cell_type": "code",
   "execution_count": 12,
   "metadata": {},
   "outputs": [
    {
     "name": "stdout",
     "output_type": "stream",
     "text": [
      "<class 'str'>\n"
     ]
    },
    {
     "data": {
      "text/plain": [
       "7.543373"
      ]
     },
     "execution_count": 12,
     "metadata": {},
     "output_type": "execute_result"
    }
   ],
   "source": [
    "location = df['location'][0]\n",
    "print(type(location))\n",
    "float(location.split(\",\")[1])"
   ]
  },
  {
   "cell_type": "code",
   "execution_count": 191,
   "metadata": {},
   "outputs": [
    {
     "data": {
      "text/plain": [
       "<[OK] Osm - Reverse [Im Malzacker, Steinenstadt, Landkreis Breisgau-Hochschwarzwald, Baden-Württemberg, 79395, Deutschland]>"
      ]
     },
     "execution_count": 191,
     "metadata": {},
     "output_type": "execute_result"
    }
   ],
   "source": [
    "g = geocoder.osm(location, method='reverse')\n",
    "g"
   ]
  },
  {
   "cell_type": "code",
   "execution_count": 32,
   "metadata": {},
   "outputs": [],
   "source": [
    "latlng = df['location'][0].split(\",\")\n",
    "lat = float(latlng[0])\n",
    "lng = float(latlng[1])"
   ]
  },
  {
   "cell_type": "code",
   "execution_count": 30,
   "metadata": {},
   "outputs": [
    {
     "name": "stdout",
     "output_type": "stream",
     "text": [
      "<class 'str'>\n"
     ]
    }
   ],
   "source": [
    "print(type(latlng[0]))"
   ]
  },
  {
   "cell_type": "markdown",
   "metadata": {},
   "source": [
    "## Testing data scrawler"
   ]
  },
  {
   "cell_type": "code",
   "execution_count": 89,
   "metadata": {},
   "outputs": [
    {
     "data": {
      "text/plain": [
       "name          4\n",
       "adress        4\n",
       "desc          4\n",
       "year_build    4\n",
       "location      4\n",
       "dtype: int64"
      ]
     },
     "execution_count": 89,
     "metadata": {},
     "output_type": "execute_result"
    }
   ],
   "source": [
    "# basik info\n",
    "df.count()"
   ]
  },
  {
   "cell_type": "markdown",
   "metadata": {},
   "source": [
    "# Mapping"
   ]
  },
  {
   "cell_type": "code",
   "execution_count": null,
   "metadata": {},
   "outputs": [],
   "source": []
  },
  {
   "cell_type": "code",
   "execution_count": 13,
   "metadata": {},
   "outputs": [
    {
     "name": "stdout",
     "output_type": "stream",
     "text": [
      "Pandas(Index=0, name='RÜB_59', adress='Weinbergblick, 79395 Neuenburg am Rhein', desc='Regenbecken', year_build=1998, location='47.784599, 7.543373')\n"
     ]
    }
   ],
   "source": [
    "# iterate through df\n",
    "for i in df.itertuples():\n",
    "    print(i)\n",
    "    break\n",
    "#    for name, adress, desc, year_build, location in columns:\n",
    "#        print(location)\n",
    "#    print(locations)"
   ]
  },
  {
   "cell_type": "code",
   "execution_count": 133,
   "metadata": {},
   "outputs": [
    {
     "data": {
      "text/plain": [
       "['47.76983115', ' 7.5548874']"
      ]
     },
     "execution_count": 133,
     "metadata": {},
     "output_type": "execute_result"
    }
   ],
   "source": [
    "# work with NumPy Series, cause more efficient than Python dict\n",
    "locations = pd.Series(file_dict)\n",
    "locations[0]['location'].split(\",\")"
   ]
  },
  {
   "cell_type": "code",
   "execution_count": 60,
   "metadata": {},
   "outputs": [
    {
     "data": {
      "text/html": [
       "<div style=\"width:100%;\"><div style=\"position:relative;width:100%;height:0;padding-bottom:60%;\"><span style=\"color:#565656\">Make this Notebook Trusted to load map: File -> Trust Notebook</span><iframe src=\"about:blank\" style=\"position:absolute;width:100%;height:100%;left:0;top:0;border:none !important;\" data-html=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 onload=\"this.contentDocument.open();this.contentDocument.write(atob(this.getAttribute('data-html')));this.contentDocument.close();\" allowfullscreen webkitallowfullscreen mozallowfullscreen></iframe></div></div>"
      ],
      "text/plain": [
       "<folium.folium.Map at 0x7f46f9959040>"
      ]
     },
     "execution_count": 60,
     "metadata": {},
     "output_type": "execute_result"
    }
   ],
   "source": [
    "locations = pd.Series(file_dict)\n",
    "location_base  = locations[0]['location'].split(\",\")\n",
    "location_addr = locations[0]['adress']\n",
    "\n",
    "locations_map = Map(location = location_base,\n",
    "                    height= '100',\n",
    "                    tiles = 'OpenStreetMap',\n",
    "                    zoom_start = 8)\n",
    "locations_map.add_child(\n",
    "   Marker(location = locations[0]['location'].split(\",\"),\n",
    "                              popup = location_addr,\n",
    "                              icon = folium.Icon(color = 'blue')))\n",
    "\n"
   ]
  },
  {
   "cell_type": "code",
   "execution_count": null,
   "metadata": {},
   "outputs": [],
   "source": [
    "location"
   ]
  },
  {
   "cell_type": "code",
   "execution_count": 61,
   "metadata": {},
   "outputs": [
    {
     "data": {
      "text/html": [
       "<div style=\"width:100%;\"><div style=\"position:relative;width:100%;height:0;padding-bottom:60%;\"><span style=\"color:#565656\">Make this Notebook Trusted to load map: File -> Trust Notebook</span><iframe src=\"about:blank\" style=\"position:absolute;width:100%;height:100%;left:0;top:0;border:none !important;\" data-html=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 onload=\"this.contentDocument.open();this.contentDocument.write(atob(this.getAttribute('data-html')));this.contentDocument.close();\" allowfullscreen webkitallowfullscreen mozallowfullscreen></iframe></div></div>"
      ],
      "text/plain": [
       "<folium.folium.Map at 0x7f46f9959040>"
      ]
     },
     "execution_count": 61,
     "metadata": {},
     "output_type": "execute_result"
    }
   ],
   "source": [
    "for i in pd.Series(file_dict):\n",
    "    name = i['name']\n",
    "    address = i['adress']\n",
    "    description = i['desc']\n",
    "    locations = i['location'].split(\",\")\n",
    "    year_build = i['year_build']\n",
    "   # print(locations[0])\n",
    "   # print(location)\n",
    "    folium.features.RegularPolygonMarker(location = [locations[0], locations[1]],\n",
    "                                        tooltip = name,\n",
    "                                        popup = \"Name: \" + name + \"\\nTyp: \" + description + \"\\nAdresse: \" + address,\n",
    "                                        #zoom = 200,\n",
    "                                        #number_of_sides = 3,\n",
    "                                        #radius = 5,\n",
    "                                        #weight = 1,\n",
    "                                        #fill_opacity = 0.8\n",
    "                                        ).add_to(locations_map)\n",
    "    \n",
    "locations_map"
   ]
  },
  {
   "cell_type": "code",
   "execution_count": null,
   "metadata": {},
   "outputs": [],
   "source": [
    "# Saving maps\n",
    "\n",
    "# user_map.save('current_map.html"
   ]
  },
  {
   "cell_type": "markdown",
   "metadata": {},
   "source": [
    "# 2.0 reverse geocoding"
   ]
  },
  {
   "cell_type": "markdown",
   "metadata": {},
   "source": [
    "## 2.1 write dict"
   ]
  },
  {
   "cell_type": "code",
   "execution_count": 46,
   "metadata": {},
   "outputs": [
    {
     "data": {
      "text/plain": [
       "<[OK] Osm - Reverse [Im Malzacker, Steinenstadt, Landkreis Breisgau-Hochschwarzwald, Baden-Württemberg, 79395, Deutschland]>"
      ]
     },
     "execution_count": 46,
     "metadata": {},
     "output_type": "execute_result"
    }
   ],
   "source": [
    "g = geocoder.osm(\"47.76983115, 7.5548874\", method='reverse')\n",
    "g"
   ]
  },
  {
   "cell_type": "code",
   "execution_count": 45,
   "metadata": {},
   "outputs": [
    {
     "data": {
      "text/plain": [
       "<[OK] Osm - Reverse [Avenida Pedro Bruno Guggiari, Vista Alegre, Asunción, Región Oriental, 001311, Paraguay]>"
      ]
     },
     "execution_count": 45,
     "metadata": {},
     "output_type": "execute_result"
    }
   ],
   "source": [
    "c = geocoder.osm([-25.3127, -57.6108], method='reverse')\n",
    "c"
   ]
  },
  {
   "cell_type": "code",
   "execution_count": 46,
   "metadata": {
    "collapsed": true,
    "jupyter": {
     "outputs_hidden": true
    }
   },
   "outputs": [
    {
     "data": {
      "text/plain": [
       "{'accuracy': 0.42099999999999993,\n",
       " 'address': '10, St. Barbara Straße, Steinenstadt, Landkreis Breisgau-Hochschwarzwald, Baden-Württemberg, 79395, Deutschland',\n",
       " 'bbox': {'northeast': [47.7695802, 7.5548826],\n",
       "  'southwest': [47.7694819, 7.5546943]},\n",
       " 'confidence': 10,\n",
       " 'country': 'Deutschland',\n",
       " 'country_code': 'de',\n",
       " 'county': 'Landkreis Breisgau-Hochschwarzwald',\n",
       " 'housenumber': '10',\n",
       " 'importance': 0.42099999999999993,\n",
       " 'lat': 47.76953105,\n",
       " 'lng': 7.55478845,\n",
       " 'ok': True,\n",
       " 'osm_id': 162443389,\n",
       " 'osm_type': 'way',\n",
       " 'place_id': 124173898,\n",
       " 'place_rank': 30,\n",
       " 'postal': '79395',\n",
       " 'quality': 'yes',\n",
       " 'raw': {'place_id': 124173898,\n",
       "  'licence': 'Data © OpenStreetMap contributors, ODbL 1.0. https://osm.org/copyright',\n",
       "  'osm_type': 'way',\n",
       "  'osm_id': 162443389,\n",
       "  'boundingbox': ['47.7694819', '47.7695802', '7.5546943', '7.5548826'],\n",
       "  'lat': '47.76953105',\n",
       "  'lon': '7.55478845',\n",
       "  'display_name': '10, St. Barbara Straße, Steinenstadt, Landkreis Breisgau-Hochschwarzwald, Baden-Württemberg, 79395, Deutschland',\n",
       "  'place_rank': 30,\n",
       "  'category': 'building',\n",
       "  'type': 'yes',\n",
       "  'importance': 0.42099999999999993,\n",
       "  'address': {'house_number': '10',\n",
       "   'road': 'St. Barbara Straße',\n",
       "   'village': 'Steinenstadt',\n",
       "   'county': 'Landkreis Breisgau-Hochschwarzwald',\n",
       "   'state': 'Baden-Württemberg',\n",
       "   'postcode': '79395',\n",
       "   'country': 'Deutschland',\n",
       "   'country_code': 'de'}},\n",
       " 'region': 'Baden-Württemberg',\n",
       " 'state': 'Baden-Württemberg',\n",
       " 'status': 'OK',\n",
       " 'street': 'St. Barbara Straße',\n",
       " 'type': 'yes',\n",
       " 'village': 'Steinenstadt'}"
      ]
     },
     "execution_count": 46,
     "metadata": {},
     "output_type": "execute_result"
    }
   ],
   "source": [
    "results = geocoder.osm('St. Barbara Strasse 10, Steinenstadt, Germany')\n",
    "results.json # show as json file, als .geojason, .wkt, .osm"
   ]
  },
  {
   "cell_type": "code",
   "execution_count": 116,
   "metadata": {},
   "outputs": [
    {
     "data": {
      "text/plain": [
       "{'x': 7.55478845,\n",
       " 'y': 47.76953105,\n",
       " 'addr:housenumber': '10',\n",
       " 'addr:street': 'St. Barbara Straße',\n",
       " 'addr:state': 'Baden-Württemberg',\n",
       " 'addr:country': 'Deutschland',\n",
       " 'addr:postal': '79395'}"
      ]
     },
     "execution_count": 116,
     "metadata": {},
     "output_type": "execute_result"
    }
   ],
   "source": [
    "#  as osmand results\n",
    "results.osm"
   ]
  },
  {
   "cell_type": "markdown",
   "metadata": {},
   "source": [
    "## 2.2 or read from files"
   ]
  },
  {
   "cell_type": "code",
   "execution_count": 54,
   "metadata": {},
   "outputs": [
    {
     "data": {
      "text/plain": [
       "[47.76953105, 7.55478845]"
      ]
     },
     "execution_count": 54,
     "metadata": {},
     "output_type": "execute_result"
    }
   ],
   "source": [
    "results.json # display location json\n",
    "results.latlng"
   ]
  },
  {
   "cell_type": "markdown",
   "metadata": {},
   "source": [
    "# 3.0 Add Href to open content"
   ]
  },
  {
   "cell_type": "code",
   "execution_count": 63,
   "metadata": {},
   "outputs": [
    {
     "data": {
      "text/plain": [
       "['data//datassss 2/location.txt',\n",
       " 'data//TEST4a/location.txt',\n",
       " 'data//test 6/location.txt',\n",
       " 'data//Test 2/location.txt',\n",
       " 'data//Test 1/location.txt',\n",
       " 'data//Test3/location.txt']"
      ]
     },
     "execution_count": 63,
     "metadata": {},
     "output_type": "execute_result"
    }
   ],
   "source": [
    "path_list"
   ]
  },
  {
   "cell_type": "code",
   "execution_count": 72,
   "metadata": {},
   "outputs": [
    {
     "data": {
      "text/html": [
       "<div style=\"width:100%;\"><div style=\"position:relative;width:100%;height:0;padding-bottom:60%;\"><span style=\"color:#565656\">Make this Notebook Trusted to load map: File -> Trust Notebook</span><iframe src=\"about:blank\" style=\"position:absolute;width:100%;height:100%;left:0;top:0;border:none !important;\" data-html=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 onload=\"this.contentDocument.open();this.contentDocument.write(atob(this.getAttribute('data-html')));this.contentDocument.close();\" allowfullscreen webkitallowfullscreen mozallowfullscreen></iframe></div></div>"
      ],
      "text/plain": [
       "<folium.folium.Map at 0x7f46f9959040>"
      ]
     },
     "execution_count": 72,
     "metadata": {},
     "output_type": "execute_result"
    }
   ],
   "source": [
    "for i in pd.Series(file_dict):\n",
    "    name = i['name']\n",
    "    address = i['adress']\n",
    "    description = i['desc']\n",
    "    locations = i['location'].split(\",\")\n",
    "    year_build = i['year_build']\n",
    "   # print(locations[0])\n",
    "   # print(location)\n",
    "    folium.features.RegularPolygonMarker(location = [locations[0], locations[1]],\n",
    "                                        tooltip = name,\n",
    "                                        popup = ('<a href=/home/andres/miniconda3/envs/geofiles/\"data/datassss 2/location.txt\">open dir</a>'), #\"Name: \" + name + \"\\nTyp: \" + description + \"\\nAdresse: \" + address,\n",
    "                                        #zoom = 200,\n",
    "                                        #number_of_sides = 3,\n",
    "                                        #radius = 5,\n",
    "                                        #weight = 1,\n",
    "                                        #fill_opacity = 0.8\n",
    "                                        ).add_to(locations_map)\n",
    "    \n",
    "locations_map"
   ]
  }
 ],
 "metadata": {
  "kernelspec": {
   "display_name": "Python 3",
   "language": "python",
   "name": "python3"
  },
  "language_info": {
   "codemirror_mode": {
    "name": "ipython",
    "version": 3
   },
   "file_extension": ".py",
   "mimetype": "text/x-python",
   "name": "python",
   "nbconvert_exporter": "python",
   "pygments_lexer": "ipython3",
   "version": "3.8.5"
  }
 },
 "nbformat": 4,
 "nbformat_minor": 4
}
