{
 "cells": [
  {
   "cell_type": "markdown",
   "metadata": {},
   "source": [
    "# To do"
   ]
  },
  {
   "cell_type": "markdown",
   "metadata": {},
   "source": [
    "- [X] write usable json files\n",
    "- [X] allocate all files in folder\n",
    "- [X] print multiple poi on map\n",
    "- [ ] connect to open folder/files\n",
    "- [ ] make it runable - GUI Win/Html...."
   ]
  },
  {
   "cell_type": "markdown",
   "metadata": {},
   "source": [
    "# Sources"
   ]
  },
  {
   "cell_type": "markdown",
   "metadata": {},
   "source": [
    "[Source 1](https://nbviewer.jupyter.org/github/gotoariel/folium-demo/blob/master/demo/demo.ipynb)\n",
    "\n",
    "[Source 2](http://blog.schockwellenreiter.de/2020/05/2020051601.html)"
   ]
  },
  {
   "cell_type": "markdown",
   "metadata": {},
   "source": [
    "# Import libraries"
   ]
  },
  {
   "cell_type": "code",
   "execution_count": 33,
   "metadata": {},
   "outputs": [],
   "source": [
    "import json, string\n",
    "\n",
    "#Folium uses the Leaflet API to allow users to write Python code to generate and manipulate interactive JavaScript maps. This also allows for drawing those maps in Jupyter notebooks\n",
    "import folium\n",
    "#import requests\n",
    "import geocoder\n",
    "#import pandas as pd\n",
    "import matplotlib\n",
    "import numpy as np\n",
    "import pandas as pd\n",
    "import os\n",
    "import webbrowser\n",
    "from folium import Map, Marker#, GeoJson, LayerControl\n",
    "#from ediblepickle import checkpoint\n",
    "\n",
    "\n",
    "%matplotlib inline "
   ]
  },
  {
   "cell_type": "markdown",
   "metadata": {},
   "source": [
    "# 1.0 Write location based files"
   ]
  },
  {
   "cell_type": "code",
   "execution_count": 40,
   "metadata": {},
   "outputs": [],
   "source": [
    "# for testing purpose generated json files"
   ]
  },
  {
   "cell_type": "code",
   "execution_count": 35,
   "metadata": {},
   "outputs": [],
   "source": [
    "data = {}\n",
    "#data = []\n",
    "data = {\n",
    "    'name': \"Regenbecken-4\",\n",
    "    'type': 'Speicher',\n",
    "    'adress': 'Auggen, 79424, Germany',\n",
    "    'desc': \"Becken\",\n",
    "    'year_build': 1700,\n",
    "    'location': '47.790770, 7.583286'\n",
    "}\n",
    "\n",
    "with open('location.txt', 'w') as outfile:\n",
    "    json.dump(data, outfile)"
   ]
  },
  {
   "cell_type": "markdown",
   "metadata": {},
   "source": [
    "# 2.0 Import data from dir"
   ]
  },
  {
   "cell_type": "code",
   "execution_count": 34,
   "metadata": {},
   "outputs": [],
   "source": [
    "path = 'data/'"
   ]
  },
  {
   "cell_type": "code",
   "execution_count": 35,
   "metadata": {},
   "outputs": [],
   "source": [
    "file_dict = []\n",
    "path_list = []\n",
    "\n",
    "# function to walk through dirs and collect relevant documents \"location.txt\"\n",
    "\n",
    "def file_reader(path):\n",
    "    for root, dirs, files in os.walk(path): # searches in folders, subfolders and files\n",
    "        for name in dirs:\n",
    "            file_path = os.path.join(root, name)\n",
    "            for txt_file in os.listdir(file_path):\n",
    "            \n",
    "                if txt_file == 'location.txt':\n",
    "                    #folder = os.path(file_path)\n",
    "                    file = os.path.join(file_path, txt_file) # get filepath for each file\n",
    "                    path_list.append(file)\n",
    "    \n",
    "                    with open(file) as json_file: # collect json contend\n",
    "                        data = json.load(json_file)\n",
    "                        file_dict.append(data) # append json dict to file_dict\n",
    "                        #file_dict.append(folder)\n"
   ]
  },
  {
   "cell_type": "code",
   "execution_count": 40,
   "metadata": {},
   "outputs": [],
   "source": [
    "file_reader(path)"
   ]
  },
  {
   "cell_type": "markdown",
   "metadata": {},
   "source": [
    "# Mapping"
   ]
  },
  {
   "cell_type": "code",
   "execution_count": 36,
   "metadata": {},
   "outputs": [],
   "source": [
    "# get my loction\n",
    "my_loc = geocoder.ip('me')"
   ]
  },
  {
   "cell_type": "code",
   "execution_count": 41,
   "metadata": {},
   "outputs": [],
   "source": [
    "#locations = pd.Series(file_dict)\n",
    "#location_base  = locations[0]['location'].split(\",\")\n",
    "\n",
    "locations_map = Map(location = [my_loc.lat, my_loc.lng],\n",
    "                    height= '100',\n",
    "                    tiles = 'OpenStreetMap',\n",
    "                    zoom_start = 8)\n",
    "locations_map.add_child(\n",
    "   Marker(location = [my_loc.lat, my_loc.lng],\n",
    "                      tooltip = \"Mein Standort\",\n",
    "                      icon = folium.Icon(color = 'blue')));"
   ]
  },
  {
   "cell_type": "code",
   "execution_count": 42,
   "metadata": {},
   "outputs": [
    {
     "data": {
      "text/html": [
       "<div style=\"width:100%;\"><div style=\"position:relative;width:100%;height:0;padding-bottom:60%;\"><span style=\"color:#565656\">Make this Notebook Trusted to load map: File -> Trust Notebook</span><iframe src=\"about:blank\" style=\"position:absolute;width:100%;height:100%;left:0;top:0;border:none !important;\" data-html=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 onload=\"this.contentDocument.open();this.contentDocument.write(atob(this.getAttribute('data-html')));this.contentDocument.close();\" allowfullscreen webkitallowfullscreen mozallowfullscreen></iframe></div></div>"
      ],
      "text/plain": [
       "<folium.folium.Map at 0x7f1b609c2a90>"
      ]
     },
     "execution_count": 42,
     "metadata": {},
     "output_type": "execute_result"
    }
   ],
   "source": [
    "for i in pd.Series(file_dict):\n",
    "    name = i['name']\n",
    "    address = i['adress']\n",
    "    description = i['desc']\n",
    "    locations = i['location'].split(\",\")\n",
    "    year_build = i['year_build']\n",
    "    folium.features.RegularPolygonMarker(location = [locations[0], locations[1]],\n",
    "                                        tooltip = name,\n",
    "                                        popup = \"Name: \" + name + \"\\nTyp: \" + description + \"\\nAdresse: \" + address,\n",
    "                                        #zoom = 200,\n",
    "                                        #number_of_sides = 3,\n",
    "                                        #radius = 5,\n",
    "                                        #weight = 1,\n",
    "                                        #fill_opacity = 0.8\n",
    "                                        ).add_to(locations_map)\n",
    "    \n",
    "locations_map"
   ]
  },
  {
   "cell_type": "markdown",
   "metadata": {},
   "source": [
    "# 4.0 Add Href to open content"
   ]
  },
  {
   "cell_type": "code",
   "execution_count": 43,
   "metadata": {},
   "outputs": [],
   "source": [
    "for i in pd.Series(file_dict):\n",
    "    name = i['name']\n",
    "    address = i['adress']\n",
    "    #path = \"/home/andres/DataScience/Archive-Mapping/data/datassss 2/location.txt\"\n",
    "    description = i['desc']\n",
    "    locations = i['location'].split(\",\")\n",
    "    year_build = i['year_build']\n",
    "\n",
    "    folium.features.RegularPolygonMarker(location = [locations[0], locations[1]],\n",
    "                                        tooltip = name,\n",
    "                                        #popup = ('<a href=\"/home/andres/DataScience/Archive-Mapping/data/test 6\">open dir</a>'), #\"Name: \" + name + \"\\nTyp: \" + description + \"\\nAdresse: \" + address,\n",
    "                                        #zoom = 200,\n",
    "                                        #number_of_sides = 3,\n",
    "                                        #radius = 5,\n",
    "                                        #weight = 1,\n",
    "                                        #fill_opacity = 0.8\n",
    "                                        ).add_to(locations_map)\n",
    "    \n",
    "locations_map.save(\"locations_map.html\")\n",
    "webbrowser.open(\"locations_map.html\", new=2); #open new tab in webbrowser\n",
    "    \n",
    "#locations_map"
   ]
  },
  {
   "cell_type": "markdown",
   "metadata": {},
   "source": [
    "# 5.0 unse GUI"
   ]
  },
  {
   "cell_type": "code",
   "execution_count": null,
   "metadata": {},
   "outputs": [],
   "source": [
    "import kivy\n",
    "\n"
   ]
  }
 ],
 "metadata": {
  "kernelspec": {
   "display_name": "Python 3",
   "language": "python",
   "name": "python3"
  },
  "language_info": {
   "codemirror_mode": {
    "name": "ipython",
    "version": 3
   },
   "file_extension": ".py",
   "mimetype": "text/x-python",
   "name": "python",
   "nbconvert_exporter": "python",
   "pygments_lexer": "ipython3",
   "version": "3.8.5"
  }
 },
 "nbformat": 4,
 "nbformat_minor": 4
}
