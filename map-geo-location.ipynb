{
 "cells": [
  {
   "cell_type": "markdown",
   "metadata": {},
   "source": [
    "# To do"
   ]
  },
  {
   "cell_type": "markdown",
   "metadata": {},
   "source": [
    "- [X] write usable json files\n",
    "- [X] allocate all files in folder\n",
    "- [X] print multiple poi on map\n",
    "- [X] connect to open folder/files\n",
    "- [ ] To Do: make funktion return name/adress/desc...\n",
    "- [ ] save df as excel file \n",
    "- [ ] safe json as file\n",
    "- [ ] make it runable - GUI Win/Html...."
   ]
  },
  {
   "cell_type": "markdown",
   "metadata": {},
   "source": [
    "# Sources"
   ]
  },
  {
   "cell_type": "markdown",
   "metadata": {},
   "source": [
    "[Source 1](https://nbviewer.jupyter.org/github/gotoariel/folium-demo/blob/master/demo/demo.ipynb)\n",
    "\n",
    "[Source 2](http://blog.schockwellenreiter.de/2020/05/2020051601.html)"
   ]
  },
  {
   "cell_type": "markdown",
   "metadata": {},
   "source": [
    "# Import libraries"
   ]
  },
  {
   "cell_type": "code",
   "execution_count": 1,
   "metadata": {},
   "outputs": [],
   "source": [
    "import json, string\n",
    "\n",
    "#Folium uses the Leaflet API to allow users to write Python code to generate and manipulate interactive JavaScript maps. This also allows for drawing those maps in Jupyter notebooks\n",
    "import folium\n",
    "#import requests\n",
    "import geocoder\n",
    "#import pandas as pd\n",
    "import matplotlib\n",
    "import numpy as np\n",
    "import pandas as pd\n",
    "import os\n",
    "import webbrowser\n",
    "from folium import Map, Marker, Popup#, GeoJson, LayerControl\n",
    "#from ediblepickle import checkpoint\n",
    "\n",
    "\n",
    "%matplotlib inline "
   ]
  },
  {
   "cell_type": "code",
   "execution_count": 2,
   "metadata": {
    "collapsed": true,
    "jupyter": {
     "outputs_hidden": true
    }
   },
   "outputs": [
    {
     "name": "stdout",
     "output_type": "stream",
     "text": [
      "\n",
      "     active environment : geofiles\n",
      "    active env location : /home/andres/miniconda3/envs/geofiles\n",
      "            shell level : 2\n",
      "       user config file : /home/andres/.condarc\n",
      " populated config files : /home/andres/.condarc\n",
      "          conda version : 4.8.5\n",
      "    conda-build version : not installed\n",
      "         python version : 3.7.6.final.0\n",
      "       virtual packages : __glibc=2.31\n",
      "       base environment : /home/andres/miniconda3  (writable)\n",
      "           channel URLs : https://conda-forge.org/linux-64\n",
      "                          https://conda-forge.org/noarch\n",
      "                          https://pypi.org/simple/linux-64\n",
      "                          https://pypi.org/simple/noarch\n",
      "          package cache : /home/andres/miniconda3/pkgs\n",
      "                          /home/andres/.conda/pkgs\n",
      "       envs directories : /home/andres/miniconda3/envs\n",
      "                          /home/andres/.conda/envs\n",
      "               platform : linux-64\n",
      "             user-agent : conda/4.8.5 requests/2.24.0 CPython/3.7.6 Linux/5.3.0-42-generic linuxmint/20 glibc/2.31\n",
      "                UID:GID : 1000:1000\n",
      "             netrc file : None\n",
      "           offline mode : False\n",
      "\n"
     ]
    }
   ],
   "source": [
    "!conda info # basic info about env"
   ]
  },
  {
   "cell_type": "markdown",
   "metadata": {},
   "source": [
    "# 1.0 Write location based files"
   ]
  },
  {
   "cell_type": "code",
   "execution_count": 40,
   "metadata": {},
   "outputs": [],
   "source": [
    "# for testing purpose generated json files"
   ]
  },
  {
   "cell_type": "code",
   "execution_count": null,
   "metadata": {},
   "outputs": [],
   "source": [
    "building_name = input('Location name ')\n",
    "building_type = input('Building type ')\n",
    "address = input('location address ')\n",
    "building_desc = input('some further description ')\n",
    "year = pd.to_numeric(input('year of construction '))\n",
    "latitude = input('coordinates for latitude ')\n",
    "longitude = input('coordinates for longitude ')\n",
    "\n",
    "data = {\n",
    "    'name': building_name,\n",
    "    'type': building_type,\n",
    "    'address': address,\n",
    "    'desc': building_desc,\n",
    "    'year_build': year,\n",
    "    'location': latitude + ',' + longitude\n",
    "}\n",
    "\n",
    "with open('location.xml', 'w') as outfile:\n",
    "    json.dump(data, outfile)"
   ]
  },
  {
   "cell_type": "markdown",
   "metadata": {},
   "source": [
    "# 2.0 Import data from dir"
   ]
  },
  {
   "cell_type": "code",
   "execution_count": 3,
   "metadata": {},
   "outputs": [],
   "source": [
    "path_root = os.getcwd()\n",
    "path = os.path.join(path_root, 'data/')  # Import specific directory\n",
    "file_dict = []\n",
    "path_list = []"
   ]
  },
  {
   "cell_type": "code",
   "execution_count": 4,
   "metadata": {},
   "outputs": [],
   "source": [
    "file_dict = []\n",
    "path_list = []\n",
    "\n",
    "# function to walk through dirs and collect \"location.txt\" files\n",
    "def file_reader(my_path):\n",
    "    for root, dirs, files in os.walk(my_path):  # searches in folders, sub folder and files\n",
    "        for name in dirs:\n",
    "            file_path = os.path.join(root, name)\n",
    "            for txt_file in os.listdir(file_path):\n",
    "\n",
    "                if txt_file == 'location.xml':\n",
    "                    file = os.path.join(file_path, txt_file)  # get filepath for each file\n",
    "                    path_list.append(file)\n",
    "\n",
    "                    with open(file) as json_file:  # collect json contend\n",
    "                        data = json.load(json_file)\n",
    "                        file_path = file_path + \"/\"  # to get in next dir\n",
    "                        data.update({\"dir\": file_path})\n",
    "                        file_dict.append(data)  # append json dict to file_dict\n"
   ]
  },
  {
   "cell_type": "code",
   "execution_count": 5,
   "metadata": {},
   "outputs": [],
   "source": [
    "file_reader(path)"
   ]
  },
  {
   "cell_type": "markdown",
   "metadata": {},
   "source": [
    "# Mapping"
   ]
  },
  {
   "cell_type": "code",
   "execution_count": 6,
   "metadata": {},
   "outputs": [],
   "source": [
    "# get my loction\n",
    "my_loc = geocoder.ip('me')"
   ]
  },
  {
   "cell_type": "code",
   "execution_count": 7,
   "metadata": {},
   "outputs": [],
   "source": [
    "locations_map = Map(location = [my_loc.lat, my_loc.lng],\n",
    "                    height= '100',\n",
    "                    tiles = 'OpenStreetMap',\n",
    "                    zoom_start = 8)\n",
    "locations_map.add_child(\n",
    "   Marker(location = [my_loc.lat, my_loc.lng],\n",
    "                      tooltip = \"Mein Standort\",\n",
    "                      icon = folium.Icon(color = 'blue')));"
   ]
  },
  {
   "cell_type": "code",
   "execution_count": 20,
   "metadata": {},
   "outputs": [],
   "source": [
    "def map_add_details(data):\n",
    "    for i in pd.Series(data):\n",
    "        name = i['name']\n",
    "        address = i['address']\n",
    "        description = i['desc']\n",
    "        building_location = i['location'].split(\",\")\n",
    "        year_build = i['year_build']\n",
    "        directory = i['dir']\n",
    "        hyperlink_format = '<a href=\"{link}\">{text}</a>'  # format for hyperlinks\n",
    "        hyperlink = hyperlink_format.format(link=directory, text='öffnen')  # to get individual hyperlinks\n",
    "        folium.features.RegularPolygonMarker(location=[building_location[0], building_location[1]],\n",
    "                                             tooltip=name,\n",
    "                                             popup=\"Name:\\n\" + name\n",
    "                                             + \"\\nTyp:\\n\" + description\n",
    "                                             + \"\\nAdresse:\\n\" + address\n",
    "                                             + \"\\nBaujahr:\\n\" + str(year_build)\n",
    "                                             + \"\\nOrdner:\\n\" + hyperlink\n",
    "                                            ).add_to(locations_map)"
   ]
  },
  {
   "cell_type": "code",
   "execution_count": 21,
   "metadata": {},
   "outputs": [
    {
     "data": {
      "text/plain": [
       "True"
      ]
     },
     "execution_count": 21,
     "metadata": {},
     "output_type": "execute_result"
    }
   ],
   "source": [
    "map_add_details(file_dict)  # add locations into child\n",
    "locations_map.save(\"archive_library_map.html\")  # save html in folder\n",
    "webbrowser.open(\"archive_library_map.html\", new=2)  # open html new tab in br"
   ]
  },
  {
   "cell_type": "markdown",
   "metadata": {},
   "source": [
    "# 5.0 unse GUI"
   ]
  },
  {
   "cell_type": "code",
   "execution_count": 2,
   "metadata": {},
   "outputs": [],
   "source": [
    "import kivy;\n",
    "\n"
   ]
  },
  {
   "cell_type": "code",
   "execution_count": 9,
   "metadata": {},
   "outputs": [
    {
     "name": "stdout",
     "output_type": "stream",
     "text": [
      "Content-Type: text/plain;charset=utf-8\n",
      "hello world\n"
     ]
    }
   ],
   "source": [
    "import cgitb\n",
    "cgitb.enable()\n",
    "\n",
    "print(\"Content-Type: text/plain;charset=utf-8\")\n",
    "print\n",
    "\n",
    "print(\"hello world\")"
   ]
  }
 ],
 "metadata": {
  "kernelspec": {
   "display_name": "Python 3",
   "language": "python",
   "name": "python3"
  },
  "language_info": {
   "codemirror_mode": {
    "name": "ipython",
    "version": 3
   },
   "file_extension": ".py",
   "mimetype": "text/x-python",
   "name": "python",
   "nbconvert_exporter": "python",
   "pygments_lexer": "ipython3",
   "version": "3.7.6"
  }
 },
 "nbformat": 4,
 "nbformat_minor": 4
}
